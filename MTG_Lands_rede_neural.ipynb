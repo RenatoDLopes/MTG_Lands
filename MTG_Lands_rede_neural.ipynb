{
 "cells": [
  {
   "cell_type": "markdown",
   "metadata": {
    "id": "abEADsiLJPbr"
   },
   "source": [
    "##ESPECIALIZAÇÃO EM ENGENHARIA DE DADOS \n",
    "#Projeto da disciplina Redes Neurais\n",
    "\n",
    "\n",
    "O projeto de conclusão da disciplina de Redes Neurais, consiste na construção (e treinamento) de um modelo de classificador de imagens.\n",
    "\n",
    "O objetivo é criar um classificador que classifique entre ao menos dois tipos de categorias (gatos e cachorros, cadeira e mesa, casa e carro por exemplo)\n",
    "\n",
    "A única restrição é a necessidade da construção de um dataset  customizado\n",
    "\n",
    "\n",
    "Equipe: Renato Lopes\n",
    "\n",
    "Janeiro / 2022\n"
   ]
  },
  {
   "cell_type": "markdown",
   "metadata": {
    "id": "9IPb2FB8LuZi"
   },
   "source": [
    "#Montagem do Dataset\n",
    "\n",
    "Para a construção do dataset customizado foi utilizado imagens de cards de terreno basico do jogo de cartas Magic the gathering.\n",
    "\n",
    "As imagens foram baixadas do site https://mtgrex.com/?land=plains&land=island&land=swamp&land=mountain&land=forest&perPage=100 mas existem uma infinidade de sites onde é possivel baixar imagem de cartas do jogo\n",
    "\n",
    "Para auxiliar no dowload das imagens foi utilizado o plugin Ftkun Batch Download image do google chrome.\n",
    "\n",
    "Após o download das imagens as mesmas foram separadas em cinco categorias de terrenos basicos:\n",
    "\n",
    "**Mountain - Swamp - Plains - Island - Florest**\n",
    "\n",
    "Após a separação nos folders de cada categoria, foi criado o github com o dataset https://github.com/RenatoDLopes/MTG_Lands "
   ]
  },
  {
   "cell_type": "markdown",
   "metadata": {
    "id": "nQ2FblEME-74"
   },
   "source": [
    "# Carregando o Dataset no colab\n"
   ]
  },
  {
   "cell_type": "code",
   "execution_count": null,
   "metadata": {
    "id": "TfHYI-enEbqq"
   },
   "outputs": [],
   "source": [
    "import pandas as pd\n",
    "import torch\n",
    "import torch.nn as nn\n",
    "import torch.optim as optim\n",
    "from torch.optim import lr_scheduler\n",
    "import torchvision\n",
    "from torchvision import datasets, models, transforms\n",
    "import matplotlib.pyplot as plt\n",
    "import numpy as np\n",
    "import time\n",
    "import os\n",
    "import copy"
   ]
  },
  {
   "cell_type": "code",
   "execution_count": null,
   "metadata": {
    "id": "Aqy8sHYHObGZ"
   },
   "outputs": [],
   "source": [
    "!rm -rf MTG_Lands\n",
    "\n",
    "## Vide !rm --help para verificar todos os comando !rm\n",
    "##!rm -rf : remove as bibliotecas selecionadas"
   ]
  },
  {
   "cell_type": "code",
   "execution_count": null,
   "metadata": {
    "id": "bAZt1wtZF6Zv"
   },
   "outputs": [],
   "source": [
    "!git clone https://github.com/RenatoDLopes/MTG_Lands\n",
    "\n",
    "#!git clone      Clone a git repository into a new directory"
   ]
  },
  {
   "cell_type": "markdown",
   "metadata": {
    "id": "fLyl8CCrP_2o"
   },
   "source": [
    "# split dataset"
   ]
  },
  {
   "cell_type": "code",
   "execution_count": null,
   "metadata": {
    "id": "olDWnB0639s_"
   },
   "outputs": [],
   "source": [
    "import shutil\n",
    "import os\n",
    "from sklearn.model_selection import train_test_split"
   ]
  },
  {
   "cell_type": "code",
   "execution_count": null,
   "metadata": {
    "id": "3tRc-DyB5RYd"
   },
   "outputs": [],
   "source": [
    "base_dir = '/content/MTG_Lands'\n",
    "base_dir_train = '/content/MTG_Lands/train'\n",
    "base_dir_valid = '/content/MTG_Lands/valid'\n",
    "os.makedirs(base_dir_train)\n",
    "os.makedirs(base_dir_valid)\n",
    "\n",
    "#os.makedirs(a) cria o diretorio a"
   ]
  },
  {
   "cell_type": "code",
   "execution_count": null,
   "metadata": {
    "id": "O87FOCvSKHNr"
   },
   "outputs": [],
   "source": [
    "for land in ['Forest','Island','Mountain','Plains','Swamp']:\n",
    "  land_files = os.listdir(os.path.join(base_dir,land))\n",
    "  train, valid = train_test_split(land_files, test_size=0.2, random_state=1)\n",
    "  os.makedirs(os.path.join(base_dir_train,land))\n",
    "  os.makedirs(os.path.join(base_dir_valid,land))\n",
    "  for archive in train:\n",
    "    shutil.move(os.path.join(base_dir,land,archive), os.path.join(base_dir_train,land,archive))\n",
    "  for archive in valid:\n",
    "    shutil.move(os.path.join(base_dir,land,archive), os.path.join(base_dir_valid,land,archive))\n",
    "\n",
    "\n",
    "#os.listdir(a) lê o diretorio a\n",
    "#os.path.join(a,b) retorna o diretorio a/b\n",
    "#os.makedirs(a) cria o diretorio a\n",
    "#shutil.move (a,b) move o arquivo do diretorio a para o diretorio b"
   ]
  },
  {
   "cell_type": "markdown",
   "metadata": {
    "id": "WV4U4pbI0x1J"
   },
   "source": [
    "# experimentos"
   ]
  },
  {
   "cell_type": "markdown",
   "metadata": {
    "id": "dDy45hKH56TJ"
   },
   "source": [
    "## Terrenos Basicos ('Forest','Island','Mountain','Plains','Swamp')"
   ]
  },
  {
   "cell_type": "markdown",
   "metadata": {
    "id": "PAh7_KOF00o6"
   },
   "source": [
    "### Resnet - 3 canais (RGB)"
   ]
  },
  {
   "cell_type": "code",
   "execution_count": null,
   "metadata": {
    "id": "QjdfUszC00o7"
   },
   "outputs": [],
   "source": [
    "mean_nums = [0.485, 0.456, 0.406]\n",
    "std_nums = [0.229, 0.224, 0.225]\n",
    "\n",
    "chosen_transforms = {'train': transforms.Compose([\n",
    "        transforms.RandomResizedCrop(size=256),\n",
    "        transforms.RandomRotation(degrees=15),\n",
    "        transforms.RandomHorizontalFlip(),\n",
    "        transforms.ToTensor(),\n",
    "        transforms.Normalize(mean_nums, std_nums)\n",
    "]), 'valid': transforms.Compose([\n",
    "        transforms.Resize(256),\n",
    "        transforms.CenterCrop(224),\n",
    "        transforms.ToTensor(),\n",
    "        transforms.Normalize(mean_nums, std_nums)\n",
    "]),\n",
    "}"
   ]
  },
  {
   "cell_type": "code",
   "execution_count": null,
   "metadata": {
    "id": "UhGi_cLI00o7"
   },
   "outputs": [],
   "source": [
    "chosen_datasets = {x: datasets.ImageFolder(os.path.join(base_dir, x), chosen_transforms[x]) for x in ['train', 'valid']}"
   ]
  },
  {
   "cell_type": "code",
   "execution_count": null,
   "metadata": {
    "id": "pnGQGMcZ00o7"
   },
   "outputs": [],
   "source": [
    "chosen_datasets"
   ]
  },
  {
   "cell_type": "code",
   "execution_count": null,
   "metadata": {
    "id": "NxlCjWJG00o8"
   },
   "outputs": [],
   "source": [
    "dataloaders = {x: torch.utils.data.DataLoader(chosen_datasets[x], batch_size=4,\n",
    "  shuffle=True, num_workers=2)\n",
    "              for x in ['train', 'valid']}"
   ]
  },
  {
   "cell_type": "code",
   "execution_count": null,
   "metadata": {
    "id": "hdUpWHaM00o8"
   },
   "outputs": [],
   "source": [
    "dataset_sizes = {x: len(chosen_datasets[x]) for x in ['train', 'valid']}\n",
    "class_names = chosen_datasets['train'].classes\n",
    "\n",
    "device = torch.device(\"cuda\" if torch.cuda.is_available() else \"cpu\")"
   ]
  },
  {
   "cell_type": "code",
   "execution_count": null,
   "metadata": {
    "id": "-ttrtBY_00o8"
   },
   "outputs": [],
   "source": [
    "print(dataset_sizes)\n",
    "print(class_names)"
   ]
  },
  {
   "cell_type": "code",
   "execution_count": null,
   "metadata": {
    "id": "c3pTOsfN00o8"
   },
   "outputs": [],
   "source": [
    "def imshow(inp, title=None):\n",
    "    inp = inp.numpy().transpose((1, 2, 0))\n",
    "    mean = np.array([mean_nums])\n",
    "    std = np.array([std_nums])\n",
    "    inp = std * inp + mean\n",
    "    inp = np.clip(inp, 0, 1)\n",
    "    plt.imshow(inp)\n",
    "    if title is not None:\n",
    "        plt.title(title)\n",
    "    plt.pause(0.001) "
   ]
  },
  {
   "cell_type": "code",
   "execution_count": null,
   "metadata": {
    "id": "HeDqsGUc00o9"
   },
   "outputs": [],
   "source": [
    "inputs, classes = next(iter(dataloaders['train']))\n",
    "\n",
    "out = torchvision.utils.make_grid(inputs)\n",
    "\n",
    "imshow(out, title=[class_names[x] for x in classes])"
   ]
  },
  {
   "cell_type": "code",
   "execution_count": null,
   "metadata": {
    "id": "r0EOUZ8t00o9"
   },
   "outputs": [],
   "source": [
    "res_mod = models.resnet34(pretrained=True)\n",
    "\n",
    "num_ftrs = res_mod.fc.in_features\n",
    "res_mod.fc = nn.Linear(num_ftrs, 5)"
   ]
  },
  {
   "cell_type": "code",
   "execution_count": null,
   "metadata": {
    "id": "FlHodj_700o9"
   },
   "outputs": [],
   "source": [
    "res_mod"
   ]
  },
  {
   "cell_type": "code",
   "execution_count": null,
   "metadata": {
    "id": "VRnOJcDo00o9"
   },
   "outputs": [],
   "source": [
    "for name, child in res_mod.named_children():\n",
    "    print(name)"
   ]
  },
  {
   "cell_type": "code",
   "execution_count": null,
   "metadata": {
    "id": "oRmdkefY00o-"
   },
   "outputs": [],
   "source": [
    "res_mod = res_mod.to(device)\n",
    "criterion = nn.CrossEntropyLoss()\n",
    "\n",
    "optimizer_ft = optim.SGD(res_mod.parameters(), lr=0.001, momentum=0.9)\n",
    "\n",
    "exp_lr_scheduler = lr_scheduler.StepLR(optimizer_ft, step_size=7, gamma=0.1)"
   ]
  },
  {
   "cell_type": "code",
   "execution_count": null,
   "metadata": {
    "id": "-zXXWnUb00o-"
   },
   "outputs": [],
   "source": [
    "def train_model(model, criterion, optimizer, scheduler, num_epochs=2):\n",
    "    since = time.time()\n",
    "\n",
    "    best_model_wts = copy.deepcopy(model.state_dict())\n",
    "    best_acc = 0.0\n",
    "\n",
    "    for epoch in range(num_epochs):\n",
    "        print('Epoch {}/{}'.format(epoch, num_epochs - 1))\n",
    "        print('-' * 10)\n",
    "\n",
    "        for phase in ['train', 'valid']:\n",
    "            if phase == 'train':\n",
    "                scheduler.step()\n",
    "                model.train()  # Set model to training mode\n",
    "            else:\n",
    "                model.eval()   # Set model to evaluate mode\n",
    "\n",
    "            current_loss = 0.0\n",
    "            current_corrects = 0\n",
    "\n",
    "            # Here's where the training happens\n",
    "            print('Iterating through data...')\n",
    "\n",
    "            for inputs, labels in dataloaders[phase]:\n",
    "                inputs = inputs.to(device)\n",
    "                labels = labels.to(device)\n",
    "\n",
    "                # We need to zero the gradients, don't forget it\n",
    "                optimizer.zero_grad()\n",
    "\n",
    "                # Time to carry out the forward training poss\n",
    "                # We only need to log the loss stats if we are in training phase\n",
    "                with torch.set_grad_enabled(phase == 'train'):\n",
    "                    outputs = model(inputs)\n",
    "                    _, preds = torch.max(outputs, 1)\n",
    "                    loss = criterion(outputs, labels)\n",
    "\n",
    "                    # backward + optimize only if in training phase\n",
    "                    if phase == 'train':\n",
    "                        loss.backward()\n",
    "                        optimizer.step()\n",
    "\n",
    "                # We want variables to hold the loss statistics\n",
    "                current_loss += loss.item() * inputs.size(0)\n",
    "                current_corrects += torch.sum(preds == labels.data)\n",
    "\n",
    "            epoch_loss = current_loss / dataset_sizes[phase]\n",
    "            epoch_acc = current_corrects.double() / dataset_sizes[phase]\n",
    "\n",
    "            print('{} Loss: {:.4f} Acc: {:.4f}'.format(\n",
    "                phase, epoch_loss, epoch_acc))\n",
    "\n",
    "            # Make a copy of the model if the accuracy on the validation set has improved\n",
    "            if phase == 'valid' and epoch_acc > best_acc:\n",
    "                best_acc = epoch_acc\n",
    "                best_model_wts = copy.deepcopy(model.state_dict())\n",
    "\n",
    "        print()\n",
    "\n",
    "    time_since = time.time() - since\n",
    "    print('Training complete in {:.0f}m {:.0f}s'.format(\n",
    "        time_since // 60, time_since % 60))\n",
    "    print('Best val Acc: {:4f}'.format(best_acc))\n",
    "\n",
    "    # Now we'll load in the best model weights and return it\n",
    "    model.load_state_dict(best_model_wts)\n",
    "    return model"
   ]
  },
  {
   "cell_type": "code",
   "execution_count": null,
   "metadata": {
    "id": "98oP3tLE00o-"
   },
   "outputs": [],
   "source": [
    "def visualize_model(model, num_images=30):\n",
    "    was_training = model.training\n",
    "    model.eval()\n",
    "    images_handeled = 0\n",
    "    fig = plt.figure()\n",
    "\n",
    "    with torch.no_grad():\n",
    "        for i, (inputs, labels) in enumerate(dataloaders['valid']):\n",
    "            inputs = inputs.to(device)\n",
    "            labels = labels.to(device)\n",
    "\n",
    "            outputs = model(inputs)\n",
    "            _, preds = torch.max(outputs, 1)\n",
    "\n",
    "            for j in range(inputs.size()[0]):\n",
    "                images_handeled += 1\n",
    "                fig = plt.figure()\n",
    "                ax = fig.add_subplot(1, 2, 1)\n",
    "                ax.axis('off')\n",
    "                ax.set_title('predicted: {}'.format(class_names[preds[j]]))\n",
    "                imshow(inputs.cpu().data[j])\n",
    "\n",
    "                if images_handeled == num_images:\n",
    "                    model.train(mode=was_training)\n",
    "                    return\n",
    "        model.train(mode=was_training)"
   ]
  },
  {
   "cell_type": "code",
   "execution_count": null,
   "metadata": {
    "id": "1mN4QBz_00o_"
   },
   "outputs": [],
   "source": [
    "base_model = train_model(res_mod, criterion, optimizer_ft, exp_lr_scheduler, num_epochs=1)\n",
    "visualize_model(base_model)\n",
    "plt.show()"
   ]
  },
  {
   "cell_type": "code",
   "execution_count": null,
   "metadata": {
    "id": "vrgDLimK00o_"
   },
   "outputs": [],
   "source": [
    "visualize_model(base_model)"
   ]
  }
 ],
 "metadata": {
  "colab": {
   "name": "MTG_Lands - rede neural",
   "private_outputs": true,
   "provenance": []
  },
  "kernelspec": {
   "display_name": "Python 3",
   "language": "python",
   "name": "python3"
  },
  "language_info": {
   "codemirror_mode": {
    "name": "ipython",
    "version": 3
   },
   "file_extension": ".py",
   "mimetype": "text/x-python",
   "name": "python",
   "nbconvert_exporter": "python",
   "pygments_lexer": "ipython3",
   "version": "3.8.8"
  }
 },
 "nbformat": 4,
 "nbformat_minor": 1
}
